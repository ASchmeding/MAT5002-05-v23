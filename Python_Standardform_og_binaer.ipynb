{
 "cells": [
  {
   "cell_type": "markdown",
   "metadata": {},
   "source": [
    "# Python og desimaltall\n",
    "\n",
    "Vi har alrede lært om forskjellige måter å representere tall i Python. Standard Python kjenner to forskjellige typer av tall:\n",
    "\n",
    "1. <code>int</code> dvs. integer eller heltall på norsk, Eksempel: $1, 2, -3, 42,\\ldots$\n",
    "2. <code>float</code> dvs. kommatall eller desimaltall på norsk, $1.2, 0.0, -2.123,\\ldots$ (Merk Python bruker punkt og ikke komma) \n",
    "\n",
    "Bra at Python kjenner to typer tall og faktisk fins det en programbibliotek som heter *fractions*, som kan handtere brøktall. Se på [dokumentasjon fractions](https://docs.python.org/3/library/fractions.html) for mer informasjon.\n",
    "\n",
    "Spørsmålet er selvfølgelig: Hvorfor skulle vi oss bry om det? Det kunne være interessant for folk som ville beregne noe og trenger høy nøyaktighet i beregninger. Men i skolen er vi vanligvis ikke interessert i det...\n",
    "\n",
    "... eller fins det noen anledning for å se på hva skjer i programmering i forhold til matematikk?"
   ]
  },
  {
   "cell_type": "markdown",
   "metadata": {},
   "source": [
    "## Programmering i skolen og i matematikkundervisning\n",
    "\n",
    "Et spørsmål mange har når man snakker om programmering i skolen er hvorfor skal man bry seg om det og hvorfor skal vi ha det i matematikkundervisning. \n",
    "\n",
    "Enkelt svar: Læreplanen for norske skolene sier at det er matematikkundervisnings ansvar.\n",
    "\n",
    "Bedre svar: Det er viktig å kjenne programmering og hva datamaskiner gjør fordi nesten all modern teknologi er basert på matematikk og programmering."
   ]
  },
  {
   "cell_type": "markdown",
   "metadata": {},
   "source": [
    "Men hvor vanskelig kan det være? sier Ole Brumm og mener at han bruker datamaskin og (når det trengs) Python som en kalkulator. \n",
    "\n",
    "La oss se på noe som kan enkelt beregnes med en kalkulator:"
   ]
  },
  {
   "cell_type": "code",
   "execution_count": null,
   "metadata": {},
   "outputs": [],
   "source": [
    "#Før vi kjører koden: Hva er resultatet du forventer? \n",
    "#F.eks. hvis du regner på papir om det trengs...\n",
    "\n",
    "print( (0.1 + 0.2) *3)"
   ]
  },
  {
   "cell_type": "markdown",
   "metadata": {},
   "source": [
    "Hva har skjedd nå? Resultatet skulle være $(0.1+0.2)\\cdot 3 = 0.3 \\cdot 3 = 0.9$.\n",
    "\n",
    "Men Python skriver $0.9000000000000001$ så det er nesten riktig men vi har en liten feil...\n",
    "\n",
    "Hvorfor gjør datamaskinen det? Er Python verdens dårligste programmeringsspråk siden den kan ikke beregne enkle oppgaver for oss?"
   ]
  },
  {
   "cell_type": "markdown",
   "metadata": {},
   "source": [
    "### Først og framst: Hva gikk galt?\n",
    "\n",
    "Problemet er at mange kommatall kan ikke akkurat representeres i en datamaskin. En datamaskin har bare endelig mange siffrer for å representere tallene og kommatall. Så tall som trenger uendelig mange siffrer for å skrive akkurat som kommatall kan ikke representeres nøyaktig i en datamaskin.\n",
    "\n",
    "For eksempel \n",
    "$$\\sqrt{2} = 1.41421356237\\ldots$$\n",
    "er et slikt tall.\n",
    "\n",
    "Men vi har jo sett på tallene som kan skrives uten å bruke uendelig mange siffrer! $0.1$ trenger akkurat $2$ siffrer! Hvorfor snakker vi nå om uendelig mange siffrer?"
   ]
  },
  {
   "cell_type": "markdown",
   "metadata": {},
   "source": [
    "#### Standardform av tall\n",
    "\n",
    "Vi er vant å skrive kommatall på den måten $123,456$. Men hva betyr det egentlig? Skrivemåten mener at vi adderer visse *tierpotenser*\n",
    "$$123,456 = 1 \\cdot \\underbrace{10^2}_{=100} + 2 \\cdot 10^1 + 3\\cdot \\underbrace{10^0}_{=1} + 4\\cdot \\underbrace{10^{-1}}_{=0,1} + 5\\cdot \\underbrace{10^{-2}}_{=0.01}+6\\cdot \\underbrace{10^{-3}}_{=0,001}.$$\n",
    "Vi vanligvis skriver det ikke på den måten men siden å gange med en tierpotens mener at vi skifter kommaen til venstre $k$ plasser (hvis vi ganger med $10^k$) eller til høyre med $k$ plasser (gange med $10^{-k}$) er det enkelt å skrive et tall i den så kallt **standardform**"
   ]
  },
  {
   "cell_type": "markdown",
   "metadata": {},
   "source": [
    "##### Standardform av et desimaltall\n",
    "hver tall $r \\in \\mathbb{R}$ kan skrives i **standardform** som \n",
    "$$r  = a \\cdot 10^n, \\text{ der } n \\in \\mathbb{Z} \\text{ og } |a| \\in [1,10\\rangle$$\n",
    "\n",
    "Noen eksempler: \n",
    "$$0,55 = 5,5 \\cdot 10^{-1},\\quad 1 000 000 = 1 \\cdot 10^6, \\quad -13,22 = - 1,322 \\cdot 10^1$$\n",
    "\n",
    "<details>\n",
    "    <summary>Klikk her for oppgaver</summary>\n",
    "    \n",
    "1. Skriv på standardform $0,025 \\quad \\text{ og } \\quad -130 000$ \n",
    "2. Skriv som vanlig tall $4 \\cdot 10^9 \\quad \\text{ og } \\quad 5,99 \\cdot 10^{-4}$\n",
    "3. Regn ut og skriv på standardform $$\\frac{4000 \\cdot 6 \\cdot 10^4}{0,002}$$\n",
    "</details>"
   ]
  },
  {
   "cell_type": "markdown",
   "metadata": {},
   "source": [
    "---\n",
    "**_Standardform i Python_** Python skriver tallet i standardform som følgende: \n",
    "$$a \\cdot 10^k \\text{ som } a~e~k, \\text{dvs. } 0.5 = 5 \\cdot 10^{-1} \\text{ blir }  5e-1$$\n",
    "\n",
    "---\n",
    "\n",
    "Hvis vi ser på egenskaper av <code>float</code> i Python kan vi nå tolke mening av tallene:"
   ]
  },
  {
   "cell_type": "code",
   "execution_count": null,
   "metadata": {},
   "outputs": [],
   "source": [
    "import sys\n",
    "sys.float_info"
   ]
  },
  {
   "cell_type": "markdown",
   "metadata": {},
   "source": [
    "## Tilbake til datamaskinens problem\n",
    "\n",
    "Vi som menesker er vant å bruke standardformen eller desimaltallene for å regne. Nå kommer vitsen:\n",
    "\n",
    "**Datamaskiner kan ikke representere desimaltallene nøyaktige!**\n",
    "\n",
    "Grunnen til det er at datamaskinen er byggd på binærsystemet, dvs. som utgangspunkt kan en datamaskin skille mellom $1$ (dvs. det fins et signal) og $0$ (ingen signal). Internt regner datamaskinen ikke med tierpotenser men med toerpotenser:\n",
    "$$1 = 1\\cdot 2^0, \\quad 101 = \\underbrace{1 \\cdot 2^2+0\\cdot 2^1 + 1 \\cdot 2^0}_{4 + 0 + 1 = 5} \\text{ osv.}$$\n",
    "\n",
    "Det gjelder også for kommatall. Alle kommatallene dere taster inn og datamaskinen må jobbe med må programmen oversette til binærsystemet og jobbe med det i binær. Som vi har sett går det bra med enkle heltall som kan skrives som en summe av toerpotenser.\n",
    "Men hvis vi vil skrive $0,1$ i binær får vi:\n",
    "\n",
    "![OneTenthInfinite](https://www.exploringbinary.com/wp-content/uploads/OneTenthInfinite.png)\n",
    "\n",
    "Dette er uendelig mange siffrer i binær som trengs å utrykke en av de enkleste desimaltall vi kan tenke oss. Mye mer informasjon om hva foregår osv. fins på [Explorebinary.com](https://www.exploringbinary.com/why-0-point-1-does-not-exist-in-floating-point/)\n",
    "\n",
    "Dermed gjelder: \n",
    "\n",
    "**Ingen datamaskin i hele verden og ingen programmeringsspråk (basert på binærsystemet) klarer å utrykke $0,1$ akkurat som det det egentlig er**.\n"
   ]
  },
  {
   "cell_type": "code",
   "execution_count": null,
   "metadata": {},
   "outputs": [],
   "source": [
    "#Skriv ut de tallene \n",
    "print(0.1,0.2,0.3)\n",
    "\n",
    "#Et annet eksempel som viser at utregninger gir ikke det vi forventer\n",
    "0.1 + 0.2 == 0.3       #Husk at '==' er et logisk utrykk som ber Python å sammenlikne\n",
    "                       #de ting som står på venstre og høyre og spytte ut hvis de er det\n",
    "                       #samme (da får vi TRUE) eller ikke det samme (og vi får FALSE)"
   ]
  },
  {
   "cell_type": "code",
   "execution_count": null,
   "metadata": {},
   "outputs": [],
   "source": [
    "#Men hvis vi skriver ut:\n",
    "print(0.1+0.2)"
   ]
  },
  {
   "cell_type": "markdown",
   "metadata": {},
   "source": [
    "Får vi avrundingsfeil. \n",
    "\n",
    "### Er det et problem?\n",
    "\n",
    "Vi har sett nå at hele verden bruker datamaskiner som klarer ikke å regne med enkle tall som $0,1$. \n",
    "\n",
    "**Spørsmål:** \n",
    "1. Hvorfor fikk dere regne med en kalkulator i skolen uten at noen forklarte til dere at den kan ikke regne riktig?\n",
    "2. Hvorfor har dere aldri sett at kalkulatoren regner ikke riktig?\n",
    "3. Er det egentlig et problem?"
   ]
  },
  {
   "cell_type": "code",
   "execution_count": null,
   "metadata": {},
   "outputs": [],
   "source": [
    "#La oss se på forskjellen mellom utregning og ekte resultat:\n",
    "\n",
    "print('forskjell mellom 0.1 + 0.2 og 0.3 er' , (0.1+0.2)-0.3 )"
   ]
  },
  {
   "cell_type": "markdown",
   "metadata": {},
   "source": [
    "Som vi kan se er forskjellen mellom utregning og ekte resultat (så nøyaktig som datamaskin klarer å utrykke det) veldig små, det er et tall med $16$ nuller etter komma før feilen kommer inn (den er bare litt større enn den minste tall Python kan utrykke (som er på min datamaskin omtrent $2.2e-17$)\n",
    "\n",
    "Vi ser ikke feil på en vanlig kalkulator siden den runder av og regner ikke med så mange siffrer etter $0$.\n",
    "\n",
    "**Oppsummert**:\n",
    "\n",
    "* Hver datamaskin regner vanligvis feil, men disse feilene er så små at de spiller ingen roll!\n",
    "* Hvis vi jobber med en datamaskin og matematikk må vi vite at datamaskiner nesten aldri gir oss det *virkelige* resultat siden de klarer ikke å utrykke det.\n",
    "* Det er ingen problem siden vi nesten aldri bryr oss om at resultatet blir nøyaktig til siste siffre. Vi trenger bare at det er nøyaktig nok for det vi ville beregne!\n"
   ]
  },
  {
   "cell_type": "markdown",
   "metadata": {},
   "source": [
    "**Nettlenke for mer informasjon**\n",
    "\n",
    "[What every computer scientist should know about floating-point arithmetic](https://docs.oracle.com/cd/E19957-01/806-3568/ncg_goldberg.html)"
   ]
  }
 ],
 "metadata": {
  "kernelspec": {
   "display_name": "Python 3",
   "language": "python",
   "name": "python3"
  },
  "language_info": {
   "codemirror_mode": {
    "name": "ipython",
    "version": 3
   },
   "file_extension": ".py",
   "mimetype": "text/x-python",
   "name": "python",
   "nbconvert_exporter": "python",
   "pygments_lexer": "ipython3",
   "version": "3.7.4"
  }
 },
 "nbformat": 4,
 "nbformat_minor": 4
}
